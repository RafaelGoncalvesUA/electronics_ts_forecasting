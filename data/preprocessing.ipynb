{
 "cells": [
  {
   "cell_type": "code",
   "execution_count": 1,
   "metadata": {},
   "outputs": [],
   "source": [
    "import pandas as pd\n",
    "from sklearn.model_selection import train_test_split"
   ]
  },
  {
   "cell_type": "code",
   "execution_count": 2,
   "metadata": {},
   "outputs": [
    {
     "data": {
      "text/plain": [
       "6"
      ]
     },
     "execution_count": 2,
     "metadata": {},
     "output_type": "execute_result"
    }
   ],
   "source": [
    "buildings = [pd.read_csv(f'raw/Building_{i}.csv') for i in range(1, 7)]\n",
    "len(buildings)"
   ]
  },
  {
   "cell_type": "code",
   "execution_count": 3,
   "metadata": {},
   "outputs": [],
   "source": [
    "carbon_intensity = pd.read_csv('raw/carbon_intensity.csv')\n",
    "\n",
    "# add carbon intensity to each building (new column)\n",
    "for building in buildings:\n",
    "    building['Carbon Intensity (kg_CO2/kWh)'] = carbon_intensity['kg_CO2/kWh'].values"
   ]
  },
  {
   "cell_type": "code",
   "execution_count": 4,
   "metadata": {},
   "outputs": [
    {
     "data": {
      "text/plain": [
       "13248"
      ]
     },
     "execution_count": 4,
     "metadata": {},
     "output_type": "execute_result"
    }
   ],
   "source": [
    "sum([b.shape[0] for b in buildings])"
   ]
  },
  {
   "cell_type": "code",
   "execution_count": 5,
   "metadata": {},
   "outputs": [],
   "source": [
    "for i, b in enumerate(buildings, 1):\n",
    "    # split 50% to global model, 50% to local model\n",
    "    global_data, all_local_data = train_test_split(b, test_size=0.5, random_state=42)\n",
    "    global_data.to_csv(f'preprocessed/b{i}_global.csv', index=False)\n",
    "\n",
    "    # split 70% to train, 30% to test\n",
    "    local_data, test_data = train_test_split(all_local_data, test_size=0.3, random_state=42)\n",
    "    local_data.to_csv(f'preprocessed/b{i}_local.csv', index=False)\n",
    "    test_data.to_csv(f'preprocessed/b{i}_test.csv', index=False)"
   ]
  }
 ],
 "metadata": {
  "kernelspec": {
   "display_name": "Python 3",
   "language": "python",
   "name": "python3"
  },
  "language_info": {
   "codemirror_mode": {
    "name": "ipython",
    "version": 3
   },
   "file_extension": ".py",
   "mimetype": "text/x-python",
   "name": "python",
   "nbconvert_exporter": "python",
   "pygments_lexer": "ipython3",
   "version": "3.10.12"
  }
 },
 "nbformat": 4,
 "nbformat_minor": 2
}
